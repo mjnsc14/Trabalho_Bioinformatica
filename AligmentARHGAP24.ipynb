{
 "cells": [
  {
   "cell_type": "code",
   "execution_count": 1,
   "id": "4d7e257b",
   "metadata": {},
   "outputs": [],
   "source": [
    "from Bio.Blast import NCBIXML\n",
    "from Bio.Blast import NCBIWWW\n",
    "from Bio import SeqIO"
   ]
  },
  {
   "cell_type": "code",
   "execution_count": 2,
   "id": "c3f579cd",
   "metadata": {},
   "outputs": [],
   "source": [
    "seq_ARHGAP24 = SeqIO.read(open(\"sequence.fasta\"), format=\"fasta\")"
   ]
  },
  {
   "cell_type": "code",
   "execution_count": null,
   "id": "144e2356",
   "metadata": {},
   "outputs": [],
   "source": [
    "result_handle = NCBIWWW.qblast(\"blastn\", \"nt\", seq_ARHGAP24.format(\"fasta\"))\n",
    "file_save = open (\"ARHGAP24Alignment.xml\", \"w\")\n",
    "file_save.write(result_handle.read())\n",
    "file_save.close()\n",
    "result_handle.close()"
   ]
  },
  {
   "cell_type": "code",
   "execution_count": null,
   "id": "4d8e9e33",
   "metadata": {},
   "outputs": [],
   "source": [
    "result_handle = open(\"ARHGAP24Alignment.xml\")\n",
    "record = NCBIXML.read(result_handle)"
   ]
  },
  {
   "cell_type": "code",
   "execution_count": null,
   "id": "1586c46f",
   "metadata": {},
   "outputs": [],
   "source": [
    "print(\"Parâmetros\")\n",
    "print(\"Database:\" , record.database)\n",
    "print(\"Matrix:\", record.matrix)\n",
    "print(\"Gap penalties:\", record.gap_penalties)"
   ]
  },
  {
   "cell_type": "code",
   "execution_count": null,
   "id": "ee3e44d4",
   "metadata": {},
   "outputs": [],
   "source": [
    "nhits = len(record.alignments) \n",
    "print (\"number hits: \", nhits)"
   ]
  },
  {
   "cell_type": "code",
   "execution_count": null,
   "id": "f2da2da5",
   "metadata": {},
   "outputs": [],
   "source": [
    "e_value_threshold = 0.0000001\n",
    "c = len(seq_ARHGAP24.seq)\n",
    "\n",
    "print(\"Sequências homólogas:\")\n",
    "print(\"\")\n",
    "for alignment in record.alignments:\n",
    "    for hsp in aligment.hsps:\n",
    "        n=hsp.align_length\n",
    "        i=(hsp.identities/n)\n",
    "        q=(n/c)\n",
    "        p=(hsp.positives/n)\n",
    "        if hsp.expect < e_value_threshold and q>=0.9 and i>=0.9:\n",
    "            print(\"Acesso:\" , alignment.accession)\n",
    "            print(\"Hit id:\" , alignment.hit_id, \"\\n\")\n",
    "            print(\"E-value:\" , hsp.expect)\n",
    "            print(\"Comprimento:\", hsp.align_length)\n",
    "            print(\"Identidade:\" , (i*100), \"%\")\n",
    "            print(\"Query cover:\" , (q*100), \"%\")\n",
    "            print(\"Positivies:\", (p*100), \"%\", \"\\n\")\n",
    "            print(\"Definição:\" ,alignment.hit_def, \"\\n\")\n",
    "            print(\"---Alinhamento----\", \"Query start:\", hsp.query_start, \"Sbjct start:\",hsp_sbjct_start)\n",
    "        "
   ]
  },
  {
   "cell_type": "code",
   "execution_count": null,
   "id": "1556f877",
   "metadata": {},
   "outputs": [],
   "source": []
  },
  {
   "cell_type": "code",
   "execution_count": null,
   "id": "aba8de6b",
   "metadata": {},
   "outputs": [],
   "source": []
  }
 ],
 "metadata": {
  "kernelspec": {
   "display_name": "Python 3 (ipykernel)",
   "language": "python",
   "name": "python3"
  },
  "language_info": {
   "codemirror_mode": {
    "name": "ipython",
    "version": 3
   },
   "file_extension": ".py",
   "mimetype": "text/x-python",
   "name": "python",
   "nbconvert_exporter": "python",
   "pygments_lexer": "ipython3",
   "version": "3.11.5"
  }
 },
 "nbformat": 4,
 "nbformat_minor": 5
}
