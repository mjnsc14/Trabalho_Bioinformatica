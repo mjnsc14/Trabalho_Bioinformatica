{
 "cells": [
  {
   "cell_type": "markdown",
   "id": "f888d738",
   "metadata": {},
   "source": [
    "# Alinhamento múltiplo do gene ARHGAP24"
   ]
  },
  {
   "cell_type": "code",
   "execution_count": 6,
   "id": "5a3e4a34",
   "metadata": {},
   "outputs": [],
   "source": [
    "from Bio import SeqIO\n",
    "from Bio.Blast import NCBIWWW, NCBIXML\n",
    "import requests\n",
    "from io import StringIO                  "
   ]
  },
  {
   "cell_type": "markdown",
   "id": "d107c5e6",
   "metadata": {},
   "source": [
    "Dados da proteina através do Uniprot "
   ]
  },
  {
   "cell_type": "code",
   "execution_count": 7,
   "id": "680c9a11",
   "metadata": {},
   "outputs": [],
   "source": [
    "def fetch_protein_sequence(uniprot_id):\n",
    "    url = f\"https://rest.uniprot.org/uniprotkb/{uniprot_id}.fasta\"\n",
    "    response = requests.get(url)\n",
    "    \n",
    "    if response.ok:\n",
    "        # Extract the protein sequence from the FASTA format\n",
    "        fasta_data = response.text\n",
    "        fasta_io = StringIO(fasta_data)\n",
    "        record = SeqIO.read(fasta_io, \"fasta\")\n",
    "        return record.seq\n",
    "    else:\n",
    "        print(f\"Failed to fetch protein sequence from {url}.\")\n",
    "        return None"
   ]
  },
  {
   "cell_type": "markdown",
   "id": "169c6c07",
   "metadata": {},
   "source": [
    "Obter os resultados do BlastP"
   ]
  },
  {
   "cell_type": "code",
   "execution_count": 8,
   "id": "2360efc5",
   "metadata": {},
   "outputs": [],
   "source": [
    "def run_blast(sequence, blast_program=\"blastp\", database=\"swissprot\", outfile=\"blast_results.xml\"):\n",
    "    # Run BLAST with the given sequence\n",
    "    result_handle = NCBIWWW.qblast(blast_program, database, sequence)\n",
    "    \n",
    "    # Save the results to a file\n",
    "    with open(outfile, \"w\") as out_file:\n",
    "        out_file.write(result_handle.read())\n",
    "    \n",
    "    result_handle.close()"
   ]
  },
  {
   "cell_type": "markdown",
   "id": "36338d0f",
   "metadata": {},
   "source": [
    "Salvar os resultados do Blast num ficheiro xml de nome \"blast_results\""
   ]
  },
  {
   "cell_type": "code",
   "execution_count": 9,
   "id": "db13d069",
   "metadata": {},
   "outputs": [
    {
     "name": "stdout",
     "output_type": "stream",
     "text": [
      "Protein sequence for Q8N264:\n",
      "MEENNDSTENPQQGQGRQNAIKCGWLRKQGGFVKTWHTRWFVLKGDQLYYFKDEDETKPLGTIFLPGNKVSEHPCNEENPGKFLFEVVPGGDRDRMTANHESYLLMASTQNDMEDWVKSIRRVIWGPFGGGIFGQKLEDTVRYEKRYGNRLAPMLVEQCVDFIRQRGLKEEGLFRLPGQANLVKELQDAFDCGEKPSFDSNTDVHTVASLLKLYLRELPEPVIPYAKYEDFLSCAKLLSKEEEAGVKELAKQVKSLPVVNYNLLKYICRFLDEVQSYSGVNKMSVQNLATVFGPNILRPKVEDPLTIMEGTVVVQQLMSVMISKHDCLFPKDAELQSKPQDGVSNNNEIQKKATMGQLQNKENNNTKDSPSRQCSWDKSESPQRSSMNNGSPTALSGSKTNSPKNSVHKLDVSRSPPLMVKKNPAFNKGSGIVTNGSFSSSNAEGLEKTQTTPNGSLQARRSSSLKVSGTKMGTHSVQNGTVRMGILNSDTLGNPTNVRNMSWLPNGYVTLRDNKQKEQAGELGQHNRLSTYDNVHQQFSMMNLDDKQSIDSATWSTSSCEISLPENSNSCRSSTTTCPEQDFFGGNFEDPVLDGPPQDDLSHPRDYESKSDHRSVGGRSSRATSSSDNSETFVGNSSSNHSALHSLVSSLKQEMTKQKIEYESRIKSLEQRNLTLETEMMSLHDELDQERKKFTMIEIKMRNAERAKEDAEKRNDMLQKEMEQFFSTFGELTVEPRRTERGNTIWIQ\n",
      "BLAST results saved to blast_results1.xml\n"
     ]
    }
   ],
   "source": [
    "if __name__ == \"__main__\":\n",
    "    uniprot_id = \"Q8N264\"  # UniProt ID of the protein you want to fetch and BLAST\n",
    "\n",
    "    # Fetch protein sequence from UniProt\n",
    "    protein_sequence = fetch_protein_sequence(uniprot_id)\n",
    "\n",
    "    if protein_sequence:\n",
    "        print(f\"Protein sequence for {uniprot_id}:\\n{protein_sequence}\")\n",
    "\n",
    "        # Run BLAST with the obtained protein sequence\n",
    "        run_blast(protein_sequence, blast_program=\"blastp\", database=\"swissprot\", outfile=\"blast_results1.xml\")\n",
    "\n",
    "        print(f\"BLAST results saved to blast_results1.xml\")"
   ]
  },
  {
   "cell_type": "markdown",
   "id": "8652552f",
   "metadata": {},
   "source": [
    "Abrir o ficheiro xml de nome \"blast_results\" e lê-lo"
   ]
  },
  {
   "cell_type": "code",
   "execution_count": 10,
   "id": "eeb547d5",
   "metadata": {},
   "outputs": [],
   "source": [
    "result_handle=open(\"blast_results1.xml\")\n",
    "record=NCBIXML.read(result_handle)"
   ]
  },
  {
   "cell_type": "markdown",
   "id": "24d6b022",
   "metadata": {},
   "source": [
    "Parâmetros globais da pesquisa realizada no Blast"
   ]
  },
  {
   "cell_type": "code",
   "execution_count": 11,
   "id": "1dd82af2",
   "metadata": {},
   "outputs": [
    {
     "name": "stdout",
     "output_type": "stream",
     "text": [
      "A base de dados utilizada foi swissprot\n",
      "A matriz de substituição utilizada no alinhamento foi BLOSUM62\n",
      "Os parâmetros de espaçamento do alinhamento são (11, 1)\n"
     ]
    }
   ],
   "source": [
    "print(\"A base de dados utilizada foi\", record.database)\n",
    "print(\"A matriz de substituição utilizada no alinhamento foi\", record.matrix)\n",
    "print(\"Os parâmetros de espaçamento do alinhamento são\", record.gap_penalties)"
   ]
  },
  {
   "cell_type": "markdown",
   "id": "b183d498",
   "metadata": {},
   "source": [
    "Número de sequências homólogas da sequência nucleotídica em questão encontradas pelo BLAST, ou seja, o número de alinhamentos retornados (número de hits)."
   ]
  },
  {
   "cell_type": "code",
   "execution_count": 12,
   "id": "47b222a2",
   "metadata": {},
   "outputs": [
    {
     "name": "stdout",
     "output_type": "stream",
     "text": [
      "O número de alinhamentos retornados é 50\n"
     ]
    }
   ],
   "source": [
    "nhits=len(record.alignments)\n",
    "print(\"O número de alinhamentos retornados é\", nhits)"
   ]
  },
  {
   "cell_type": "markdown",
   "id": "52d1528e",
   "metadata": {},
   "source": [
    "Identificar a lista de acession numbers, os e-values, os comprimentos dos alinhamentos e a identificação das sequências homólogas dos alinhamentos obtidas na pesquisa"
   ]
  },
  {
   "cell_type": "code",
   "execution_count": 13,
   "id": "5960aa55",
   "metadata": {
    "scrolled": false
   },
   "outputs": [
    {
     "name": "stdout",
     "output_type": "stream",
     "text": [
      "Os e-values e comprimento dos alinhamentos obtidos para cada sequência são\n",
      " \n",
      "\n",
      "\n",
      "Q8N264 >  e-value:0.0, score: 4038.0, identities: 748 e comprimento:748\n",
      "\n",
      "sequência:sp|Q8N264.2| RecName: Full=Rho GTPase-activating protein 24; AltName: Full=Filamin-A-associated RhoGAP; Short=FilGAP; AltName: Full=RAC1- and CDC42-specific GTPase-activating protein of 72 kDa; Short=RC-GAP72; AltName: Full=Rho-type GTPase-activating protein 24; AltName: Full=RhoGAP of 73 kDa; AltName: Full=Sarcoma antigen NY-SAR-88; AltName: Full=p73RhoGAP [Homo sapiens]\n",
      "\n",
      "\n",
      "Q5U2Z7 >  e-value:0.0, score: 3743.0, identities: 696 e comprimento:749\n",
      "\n",
      "sequência:sp|Q5U2Z7.2| RecName: Full=Rho GTPase-activating protein 24; AltName: Full=Down-regulated in nephrectomized rat kidney #2; AltName: Full=Rho-type GTPase-activating protein 24 [Rattus norvegicus]\n",
      "\n",
      "\n",
      "Q8C4V1 >  e-value:0.0, score: 3700.0, identities: 692 e comprimento:749\n",
      "\n",
      "sequência:sp|Q8C4V1.2| RecName: Full=Rho GTPase-activating protein 24; AltName: Full=Rho-type GTPase-activating protein 24 [Mus musculus]\n",
      "\n",
      "\n",
      "Q8BL80 >  e-value:0.0, score: 1490.0, identities: 336 e comprimento:727\n",
      "\n",
      "sequência:sp|Q8BL80.2| RecName: Full=Rho GTPase-activating protein 22; AltName: Full=Rho-type GTPase-activating protein 22; AltName: Full=p68RacGAP [Mus musculus]\n",
      "\n",
      "\n",
      "Q7Z5H3 >  e-value:7.46006e-163, score: 1260.0, identities: 221 e comprimento:312\n",
      "\n",
      "sequência:sp|Q7Z5H3.1| RecName: Full=Rho GTPase-activating protein 22; AltName: Full=Rho-type GTPase-activating protein 22 [Homo sapiens]\n",
      "\n",
      "\n",
      "Q8BYW1 >  e-value:1.52706e-127, score: 1019.0, identities: 197 e comprimento:404\n",
      "\n",
      "sequência:sp|Q8BYW1.2| RecName: Full=Rho GTPase-activating protein 25; AltName: Full=Rho-type GTPase-activating protein 25 [Mus musculus]\n",
      "\n",
      "\n",
      "P42331 >  e-value:1.92598e-123, score: 991.0, identities: 196 e comprimento:400\n",
      "\n",
      "sequência:sp|P42331.2| RecName: Full=Rho GTPase-activating protein 25; AltName: Full=Rho-type GTPase-activating protein 25 [Homo sapiens]\n",
      "\n",
      "\n",
      "Q54FG5 >  e-value:1.56326e-32, score: 348.0, identities: 90 e comprimento:316\n",
      "\n",
      "sequência:sp|Q54FG5.1| RecName: Full=Rho GTPase-activating protein gacJJ; AltName: Full=GTPase activating factor for raC protein JJ [Dictyostelium discoideum]\n",
      "\n",
      "\n",
      "Q54TH9 >  e-value:8.09775e-29, score: 316.0, identities: 74 e comprimento:198\n",
      "\n",
      "sequência:sp|Q54TH9.1| RecName: Full=Rho GTPase-activating protein gacY; AltName: Full=GTPase activating factor for raC protein Y [Dictyostelium discoideum]\n",
      "\n",
      "\n",
      "Q17R89 >  e-value:2.93225e-28, score: 313.0, identities: 69 e comprimento:205\n",
      "\n",
      "sequência:sp|Q17R89.1| RecName: Full=Rho GTPase-activating protein 44; AltName: Full=NPC-A-10; AltName: Full=Rho-type GTPase-activating protein RICH2; AltName: Full=RhoGAP interacting with CIP4 homologs protein 2; Short=RICH-2 [Homo sapiens]\n",
      "\n",
      "\n",
      "Q5SSM3 >  e-value:4.05928e-28, score: 312.0, identities: 70 e comprimento:205\n",
      "\n",
      "sequência:sp|Q5SSM3.1| RecName: Full=Rho GTPase-activating protein 44; AltName: Full=Rho-type GTPase-activating protein RICH2; AltName: Full=RhoGAP interacting with CIP4 homologs protein 2; Short=RICH-2 [Mus musculus]\n",
      "\n",
      "\n",
      "Q68EM7 >  e-value:7.36781e-28, score: 310.0, identities: 71 e comprimento:205\n",
      "\n",
      "sequência:sp|Q68EM7.1| RecName: Full=Rho GTPase-activating protein 17; AltName: Full=Rho-type GTPase-activating protein 17; AltName: Full=RhoGAP interacting with CIP4 homologs protein 1; Short=RICH-1 [Homo sapiens]\n",
      "\n",
      "\n",
      "F1LQX4 >  e-value:7.83252e-28, score: 309.0, identities: 69 e comprimento:205\n",
      "\n",
      "sequência:sp|F1LQX4.2| RecName: Full=Rho GTPase-activating protein 44; AltName: Full=Rho-type GTPase-activating protein RICH2; AltName: Full=RhoGAP interacting with CIP4 homologs protein 2; Short=RICH-2 [Rattus norvegicus]\n",
      "\n",
      "\n",
      "Q99N37 >  e-value:2.82953e-27, score: 305.0, identities: 73 e comprimento:205\n",
      "\n",
      "sequência:sp|Q99N37.1| RecName: Full=Rho GTPase-activating protein 17; AltName: Full=Neuron-associated developmentally-regulated protein; Short=Nadrin; AltName: Full=Rho-type GTPase-activating protein 17 [Rattus norvegicus]\n",
      "\n",
      "\n",
      "Q3UIA2 >  e-value:3.51399e-27, score: 304.0, identities: 73 e comprimento:205\n",
      "\n",
      "sequência:sp|Q3UIA2.1| RecName: Full=Rho GTPase-activating protein 17; AltName: Full=Neuron-associated developmentally-regulated protein; Short=Nadrin; AltName: Full=Rho-type GTPase-activating protein 17 [Mus musculus]\n",
      "\n",
      "\n",
      "Q559A0 >  e-value:1.00467e-26, score: 301.0, identities: 66 e comprimento:204\n",
      "\n",
      "sequência:sp|Q559A0.1| RecName: Full=Rho GTPase-activating protein gacU; AltName: Full=GTPase activating factor for raC protein U [Dictyostelium discoideum]\n",
      "\n",
      "\n",
      "Q5ZMM3 >  e-value:1.02186e-26, score: 294.0, identities: 66 e comprimento:211\n",
      "\n",
      "sequência:sp|Q5ZMM3.1| RecName: Full=Rho GTPase-activating protein 15; AltName: Full=ArhGAP15; AltName: Full=Rho-type GTPase-activating protein 15 [Gallus gallus]\n",
      "\n",
      "\n",
      "O43295 >  e-value:1.10273e-25, score: 293.0, identities: 60 e comprimento:187\n",
      "\n",
      "sequência:sp|O43295.3| RecName: Full=SLIT-ROBO Rho GTPase-activating protein 3; Short=srGAP3; AltName: Full=Mental disorder-associated GAP; AltName: Full=Rho GTPase-activating protein 14; AltName: Full=WAVE-associated Rac GTPase-activating protein; Short=WRP [Homo sapiens]\n",
      "\n",
      "\n",
      "Q6ZUM4 >  e-value:1.33651e-25, score: 291.0, identities: 69 e comprimento:203\n",
      "\n",
      "sequência:sp|Q6ZUM4.3| RecName: Full=Rho GTPase-activating protein 27; AltName: Full=CIN85-associated multi-domain-containing Rho GTPase-activating protein 1; AltName: Full=Rho-type GTPase-activating protein 27; AltName: Full=SH3 domain-containing protein 20 [Homo sapiens]\n",
      "\n",
      "\n",
      "P30337 >  e-value:2.10331e-25, score: 277.0, identities: 61 e comprimento:180\n",
      "\n",
      "sequência:sp|P30337.2| RecName: Full=N-chimaerin; AltName: Full=A-chimaerin; AltName: Full=Alpha-chimerin; AltName: Full=N-chimerin; Short=NC; AltName: Full=Rho GTPase-activating protein 2 [Rattus norvegicus]\n",
      "\n",
      "\n",
      "Q6TLK4 >  e-value:3.3615e-25, score: 288.0, identities: 66 e comprimento:203\n",
      "\n",
      "sequência:sp|Q6TLK4.1| RecName: Full=Rho GTPase-activating protein 27; AltName: Full=CIN85-associated multi-domain-containing Rho GTPase-activating protein 1; AltName: Full=Rho-type GTPase-activating protein 27 [Rattus norvegicus]\n",
      "\n",
      "\n",
      "Q6DFG0 >  e-value:5.03457e-25, score: 288.0, identities: 69 e comprimento:220\n",
      "\n",
      "sequência:sp|Q6DFG0.1| RecName: Full=Rho GTPase-activating protein 21-A; AltName: Full=Rho-type GTPase-activating protein 21-A [Xenopus laevis]\n",
      "\n",
      "\n",
      "Q71M21 >  e-value:5.80613e-25, score: 288.0, identities: 71 e comprimento:220\n",
      "\n",
      "sequência:sp|Q71M21.1| RecName: Full=Rho GTPase-activating protein 21-B; AltName: Full=Rho-type GTPase-activating protein 21-B; AltName: Full=XrGAP [Xenopus laevis]\n",
      "\n",
      "\n",
      "Q7Z6B7 >  e-value:7.4813e-25, score: 286.0, identities: 65 e comprimento:211\n",
      "\n",
      "sequência:sp|Q7Z6B7.1| RecName: Full=SLIT-ROBO Rho GTPase-activating protein 1; Short=srGAP1; AltName: Full=Rho GTPase-activating protein 13 [Homo sapiens]\n",
      "\n",
      "\n",
      "Q91Z69 >  e-value:7.48742e-25, score: 286.0, identities: 61 e comprimento:189\n",
      "\n",
      "sequência:sp|Q91Z69.2| RecName: Full=SLIT-ROBO Rho GTPase-activating protein 1; Short=srGAP1; AltName: Full=Rho GTPase-activating protein 13 [Mus musculus]\n",
      "\n",
      "\n",
      "Q812A2 >  e-value:8.16576e-25, score: 285.0, identities: 60 e comprimento:187\n",
      "\n",
      "sequência:sp|Q812A2.1| RecName: Full=SLIT-ROBO Rho GTPase-activating protein 3; Short=srGAP3; AltName: Full=Rho GTPase-activating protein 14; AltName: Full=WAVE-associated Rac GTPase-activating protein; Short=WRP [Mus musculus]\n",
      "\n",
      "\n",
      "Q91V57 >  e-value:9.3759e-25, score: 278.0, identities: 61 e comprimento:180\n",
      "\n",
      "sequência:sp|Q91V57.2| RecName: Full=N-chimaerin; AltName: Full=A-chimaerin; AltName: Full=Alpha-chimerin; AltName: Full=N-chimerin; Short=NC; AltName: Full=Rho GTPase-activating protein 2 [Mus musculus]\n",
      "\n",
      "\n",
      "A2RUV4 >  e-value:1.45653e-24, score: 284.0, identities: 70 e comprimento:220\n",
      "\n",
      "sequência:sp|A2RUV4.1| RecName: Full=Rho GTPase-activating protein 21; AltName: Full=Rho-type GTPase-activating protein 21 [Xenopus tropicalis]\n",
      "\n",
      "\n",
      "A2AB59 >  e-value:1.94835e-24, score: 281.0, identities: 65 e comprimento:203\n",
      "\n",
      "sequência:sp|A2AB59.1| RecName: Full=Rho GTPase-activating protein 27; AltName: Full=CIN85-associated multi-domain-containing Rho GTPase-activating protein 1; AltName: Full=Rho-type GTPase-activating protein 27 [Mus musculus]\n",
      "\n",
      "\n",
      "Q9VDS5 >  e-value:4.16043e-24, score: 278.0, identities: 67 e comprimento:196\n",
      "\n",
      "sequência:sp|Q9VDS5.1| RecName: Full=Rho GTPase-activating protein 92B [Drosophila melanogaster]\n",
      "\n",
      "\n",
      "P52757 >  e-value:6.47211e-24, score: 272.0, identities: 61 e comprimento:180\n",
      "\n",
      "sequência:sp|P52757.2| RecName: Full=Beta-chimaerin; AltName: Full=Beta-chimerin; AltName: Full=Rho GTPase-activating protein 3 [Homo sapiens]\n",
      "\n",
      "\n",
      "Q03070 >  e-value:7.63199e-24, score: 263.0, identities: 60 e comprimento:180\n",
      "\n",
      "sequência:sp|Q03070.1| RecName: Full=Beta-chimaerin; AltName: Full=Beta-chimerin; AltName: Full=Rho GTPase-activating protein 3 [Rattus norvegicus]\n",
      "\n",
      "\n",
      "Q80XD1 >  e-value:7.63383e-24, score: 265.0, identities: 60 e comprimento:180\n",
      "\n",
      "sequência:sp|Q80XD1.2| RecName: Full=Beta-chimaerin; AltName: Full=Beta-chimerin; AltName: Full=Rho GTPase-activating protein 3 [Mus musculus]\n",
      "\n",
      "\n",
      "Q9CXP4 >  e-value:1.05805e-23, score: 268.0, identities: 66 e comprimento:201\n",
      "\n",
      "sequência:sp|Q9CXP4.3| RecName: Full=Rho GTPase-activating protein 8; AltName: Full=Rho-type GTPase-activating protein 8 [Mus musculus]\n",
      "\n",
      "\n",
      "O94988 >  e-value:1.08399e-23, score: 276.0, identities: 64 e comprimento:178\n",
      "\n",
      "sequência:sp|O94988.2| RecName: Full=Protein FAM13A [Homo sapiens]\n",
      "\n",
      "\n",
      "B0S6J3 >  e-value:1.3842e-23, score: 275.0, identities: 67 e comprimento:202\n",
      "\n",
      "sequência:sp|B0S6J3.1| RecName: Full=SLIT-ROBO Rho GTPase-activating protein 2; Short=srGAP2 [Danio rerio]\n",
      "\n",
      "\n",
      "P98171 >  e-value:1.40914e-23, score: 275.0, identities: 65 e comprimento:181\n",
      "\n",
      "sequência:sp|P98171.2| RecName: Full=Rho GTPase-activating protein 4; AltName: Full=Rho-GAP hematopoietic protein C1; AltName: Full=Rho-type GTPase-activating protein 4; AltName: Full=p115 [Homo sapiens]\n",
      "\n",
      "\n",
      "Q6AYC5 >  e-value:1.54966e-23, score: 269.0, identities: 61 e comprimento:206\n",
      "\n",
      "sequência:sp|Q6AYC5.1| RecName: Full=Rho GTPase-activating protein 15; AltName: Full=ArhGAP15; AltName: Full=Rho-type GTPase-activating protein 15 [Rattus norvegicus]\n",
      "\n",
      "\n",
      "Q5T5U3 >  e-value:1.97074e-23, score: 275.0, identities: 71 e comprimento:228\n",
      "\n",
      "sequência:sp|Q5T5U3.2| RecName: Full=Rho GTPase-activating protein 21; AltName: Full=Rho GTPase-activating protein 10; AltName: Full=Rho-type GTPase-activating protein 21 [Homo sapiens]\n",
      "\n",
      "\n",
      "Q9Y3L3 >  e-value:4.02559e-23, score: 270.0, identities: 72 e comprimento:205\n",
      "\n",
      "sequência:sp|Q9Y3L3.3| RecName: Full=SH3 domain-binding protein 1 [Homo sapiens]\n",
      "\n",
      "\n",
      "Q6ZT62 >  e-value:5.41241e-23, score: 268.0, identities: 72 e comprimento:205\n",
      "\n",
      "sequência:sp|Q6ZT62.2| RecName: Full=Bargin; AltName: Full=Chimeric SH3BP1-PDXP protein [Homo sapiens]\n",
      "\n",
      "\n",
      "P55194 >  e-value:5.70163e-23, score: 268.0, identities: 67 e comprimento:182\n",
      "\n",
      "sequência:sp|P55194.3| RecName: Full=SH3 domain-binding protein 1; Short=3BP-1 [Mus musculus]\n",
      "\n",
      "\n",
      "O75044 >  e-value:8.56088e-23, score: 269.0, identities: 64 e comprimento:200\n",
      "\n",
      "sequência:sp|O75044.3| RecName: Full=SLIT-ROBO Rho GTPase-activating protein 2; Short=srGAP2; AltName: Full=Formin-binding protein 2; AltName: Full=Rho GTPase-activating protein 34 [Homo sapiens]\n",
      "\n",
      "\n",
      "Q811M1 >  e-value:9.29623e-23, score: 263.0, identities: 60 e comprimento:206\n",
      "\n",
      "sequência:sp|Q811M1.1| RecName: Full=Rho GTPase-activating protein 15; AltName: Full=ArhGAP15; AltName: Full=Rho-type GTPase-activating protein 15 [Mus musculus]\n",
      "\n",
      "\n",
      "Q54SL6 >  e-value:9.5364e-23, score: 264.0, identities: 63 e comprimento:181\n",
      "\n",
      "sequência:sp|Q54SL6.1| RecName: Full=Rho GTPase-activating protein gacQ; AltName: Full=GTPase activating factor for raC protein Q [Dictyostelium discoideum]\n",
      "\n",
      "\n",
      "P85298 >  e-value:1.05057e-22, score: 262.0, identities: 58 e comprimento:179\n",
      "\n",
      "sequência:sp|P85298.1| RecName: Full=Rho GTPase-activating protein 8; AltName: Full=Rho-type GTPase-activating protein 8 [Homo sapiens]\n",
      "\n",
      "\n",
      "D4A208 >  e-value:1.09035e-22, score: 268.0, identities: 64 e comprimento:200\n",
      "\n",
      "sequência:sp|D4A208.1| RecName: Full=SLIT-ROBO Rho GTPase-activating protein 2; Short=srGAP2 [Rattus norvegicus]\n",
      "\n",
      "\n",
      "D3ZFJ3 >  e-value:1.21785e-22, score: 265.0, identities: 67 e comprimento:182\n",
      "\n",
      "sequência:sp|D3ZFJ3.1| RecName: Full=SH3 domain-binding protein 1 [Rattus norvegicus]\n",
      "\n",
      "\n",
      "Q91Z67 >  e-value:1.25195e-22, score: 267.0, identities: 64 e comprimento:200\n",
      "\n",
      "sequência:sp|Q91Z67.2| RecName: Full=SLIT-ROBO Rho GTPase-activating protein 2; Short=srGAP2; AltName: Full=Formin-binding protein 2; AltName: Full=Formin-binding protein 27; Short=FBP-27 [Mus musculus]\n",
      "\n",
      "\n",
      "Q6DFV3 >  e-value:1.31612e-22, score: 268.0, identities: 69 e comprimento:232\n",
      "\n",
      "sequência:sp|Q6DFV3.2| RecName: Full=Rho GTPase-activating protein 21; AltName: Full=Rho GTPase-activating protein 10; AltName: Full=Rho-type GTPase-activating protein 21 [Mus musculus]\n"
     ]
    }
   ],
   "source": [
    "resultado=[]\n",
    "for alignment in record.alignments:\n",
    "    evalue=alignment.hsps[0].expect\n",
    "    score = alignment.hsps[0].score\n",
    "    identities = alignment.hsps[0].identities\n",
    "    accession=alignment.accession\n",
    "    length=alignment.hsps[0].align_length\n",
    "    sequence=alignment.title\n",
    "    resultado.append(\"\\n\" + \"\\n\" + str(accession) + \" > \" + \" e-value:\"+ str(evalue) + \",\" + \" score: \" + str(score) + \",\" + \" identities: \" + str(identities) + \" e\" + \" comprimento:\" + str(length) + \"\\n\" + \"\\nsequência:\" + str(sequence) )\n",
    "\n",
    "print(\"Os e-values e comprimento dos alinhamentos obtidos para cada sequência são\")\n",
    "print(\" \")\n",
    "for s in resultado:\n",
    "    print(s)"
   ]
  },
  {
   "cell_type": "code",
   "execution_count": null,
   "id": "8febe9ea",
   "metadata": {},
   "outputs": [],
   "source": []
  },
  {
   "cell_type": "code",
   "execution_count": null,
   "id": "72549899",
   "metadata": {},
   "outputs": [],
   "source": []
  }
 ],
 "metadata": {
  "kernelspec": {
   "display_name": "Python 3 (ipykernel)",
   "language": "python",
   "name": "python3"
  },
  "language_info": {
   "codemirror_mode": {
    "name": "ipython",
    "version": 3
   },
   "file_extension": ".py",
   "mimetype": "text/x-python",
   "name": "python",
   "nbconvert_exporter": "python",
   "pygments_lexer": "ipython3",
   "version": "3.11.5"
  }
 },
 "nbformat": 4,
 "nbformat_minor": 5
}
