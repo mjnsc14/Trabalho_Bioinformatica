{
 "cells": [
  {
   "cell_type": "markdown",
   "id": "f888d738",
   "metadata": {},
   "source": [
    "# Alinhamento múltiplo do gene AT10A"
   ]
  },
  {
   "cell_type": "code",
   "execution_count": 2,
   "id": "5a3e4a34",
   "metadata": {},
   "outputs": [],
   "source": [
    "from Bio import SeqIO\n",
    "from Bio.Blast import NCBIWWW, NCBIXML\n",
    "import requests\n",
    "from io import StringIO                  "
   ]
  },
  {
   "cell_type": "markdown",
   "id": "d107c5e6",
   "metadata": {},
   "source": [
    "Dados da proteina através do Uniprot "
   ]
  },
  {
   "cell_type": "code",
   "execution_count": 3,
   "id": "680c9a11",
   "metadata": {},
   "outputs": [],
   "source": [
    "def fetch_protein_sequence(uniprot_id):\n",
    "    url = f\"https://rest.uniprot.org/uniprotkb/{uniprot_id}.fasta\"\n",
    "    response = requests.get(url)\n",
    "    \n",
    "    if response.ok:\n",
    "        # Extract the protein sequence from the FASTA format\n",
    "        fasta_data = response.text\n",
    "        fasta_io = StringIO(fasta_data)\n",
    "        record = SeqIO.read(fasta_io, \"fasta\")\n",
    "        return record.seq\n",
    "    else:\n",
    "        print(f\"Failed to fetch protein sequence from {url}.\")\n",
    "        return None"
   ]
  },
  {
   "cell_type": "markdown",
   "id": "169c6c07",
   "metadata": {},
   "source": [
    "Obter os resultados do BlastP"
   ]
  },
  {
   "cell_type": "code",
   "execution_count": 4,
   "id": "2360efc5",
   "metadata": {},
   "outputs": [],
   "source": [
    "def run_blast(sequence, blast_program=\"blastp\", database=\"swissprot\", outfile=\"blast_results.xml\"):\n",
    "    # Run BLAST with the given sequence\n",
    "    result_handle = NCBIWWW.qblast(blast_program, database, sequence)\n",
    "    \n",
    "    # Save the results to a file\n",
    "    with open(outfile, \"w\") as out_file:\n",
    "        out_file.write(result_handle.read())\n",
    "    \n",
    "    result_handle.close()"
   ]
  },
  {
   "cell_type": "markdown",
   "id": "36338d0f",
   "metadata": {},
   "source": [
    "Salvar os resultados do Blast num ficheiro xml de nome \"blast_results\""
   ]
  },
  {
   "cell_type": "code",
   "execution_count": null,
   "id": "db13d069",
   "metadata": {},
   "outputs": [
    {
     "name": "stdout",
     "output_type": "stream",
     "text": [
      "Protein sequence for O60312:\n",
      "MEREPAGTEEPGPPGRRRRREGRTRTVRSNLLPPPGAEDPAAGAAKGERRRRRGCAQHLADNRLKTTKYTLLSFLPKNLFEQFHRPANVYFVFIALLNFVPAVNAFQPGLALAPVLFILAITAFRDLWEDYSRHRSDHKINHLGCLVFSREEKKYVNRFWKEIHVGDFVRLRCNEIFPADILLLSSSDPDGLCHIETANLDGETNLKRRQVVRGFSELVSEFNPLTFTSVIECEKPNNDLSRFRGCIIHDNGKKAGLYKENLLLRGCTLRNTDAVVGIVIYAGHETKALLNNSGPRYKRSKLERQMNCDVLWCVLLLVCMSLFSAVGHGLWIWRYQEKKSLFYVPKSDGSSLSPVTAAVYSFLTMIIVLQVLIPISLYVSIEIVKACQVYFINQDMQLYDEETDSQLQCRALNITEDLGQIQYIFSDKTGTLTENKMVFRRCTVSGVEYSHDANAQRLARYQEADSEEEEVVPRGGSVSQRGSIGSHQSVRVVHRTQSTKSHRRTGSRAEAKRASMLSKHTAFSSPMEKDITPDPKLLEKVSECDKSLAVARHQEHLLAHLSPELSDVFDFFIALTICNTVVVTSPDQPRTKVRVRFELKSPVKTIEDFLRRFTPSCLTSGCSSIGSLAANKSSHKLGSSFPSTPSSDGMLLRLEERLGQPTSAIASNGYSSQADNWASELAQEQESERELRYEAESPDEAALVYAARAYNCVLVERLHDQVSVELPHLGRLTFELLHTLGFDSVRKRMSVVIRHPLTDEINVYTKGADSVVMDLLQPCSSVDARGRHQKKIRSKTQNYLNVYAAEGLRTLCIAKRVLSKEEYACWLQSHLEAESSLENSEELLFQSAIRLETNLHLLGATGIEDRLQDGVPETISKLRQAGLQIWVLTGDKQETAVNIAYACKLLDHDEEVITLNATSQEACAALLDQCLCYVQSRGLQRAPEKTKGKVSMRFSSLCPPSTSTASGRRPSLVIDGRSLAYALEKNLEDKFLFLAKQCRSVLCCRSTPLQKSMVVKLVRSKLKAMTLAIGDGANDVSMIQVADVGVGISGQEGMQAVMASDFAVPKFRYLERLLILHGHWCYSRLANMVLYFFYKNTMFVGLLFWFQFFCGFSASTMIDQWYLIFFNLLFSSLPPLVTGVLDRDVPANVLLTNPQLYKSGQNMEEYRPRTFWFNMADAAFQSLVCFSIPYLAYYDSNVDLFTWGTPIVTIALLTFLLHLGIETKTWTWLNWITCGFSVLLFFTVALIYNASCATCYPPSNPYWTMQALLGDPVFYLTCLMTPVAALLPRLFFRSLQGRVFPTQLQLARQLTRKSPRRCSAPKETFAQGRLPKDSGTEHSSGRTVKTSVPLSQPSWHTQQPVCSLEASGEPSTVDMSMPVREHTLLEGLSAPAPMSSAPGEAVLRSPGGCPEESKVRAASTGRVTPLSSLFSLPTFSLLNWISSWSLVSRLGSVLQFSRTEQLADGQAGRGLPVQPHSGRSGLQGPDHRLLIGASSRRSQ\n"
     ]
    }
   ],
   "source": [
    "if __name__ == \"__main__\":\n",
    "    uniprot_id = \"O60312\"  # UniProt ID of the protein you want to fetch and BLAST\n",
    "\n",
    "    # Fetch protein sequence from UniProt\n",
    "    protein_sequence = fetch_protein_sequence(uniprot_id)\n",
    "\n",
    "    if protein_sequence:\n",
    "        print(f\"Protein sequence for {uniprot_id}:\\n{protein_sequence}\")\n",
    "\n",
    "        # Run BLAST with the obtained protein sequence\n",
    "        run_blast(protein_sequence, blast_program=\"blastp\", database=\"swissprot\", outfile=\"blast_results.xml\")\n",
    "\n",
    "        print(f\"BLAST results saved to blast_results.xml\")"
   ]
  },
  {
   "cell_type": "markdown",
   "id": "8652552f",
   "metadata": {},
   "source": [
    "Abrir o ficheiro xml de nome \"blast_results\" e lê-lo"
   ]
  },
  {
   "cell_type": "code",
   "execution_count": null,
   "id": "eeb547d5",
   "metadata": {},
   "outputs": [],
   "source": [
    "result_handle=open(\"blast_results.xml\")\n",
    "record=NCBIXML.read(result_handle)"
   ]
  },
  {
   "cell_type": "markdown",
   "id": "24d6b022",
   "metadata": {},
   "source": [
    "Parâmetros globais da pesquisa realizada no Blast"
   ]
  },
  {
   "cell_type": "code",
   "execution_count": null,
   "id": "1dd82af2",
   "metadata": {},
   "outputs": [],
   "source": [
    "print(\"A base de dados utilizada foi\", record.database)\n",
    "print(\"A matriz de substituição utilizada no alinhamento foi\", record.matrix)\n",
    "print(\"Os parâmetros de espaçamento do alinhamento são\", record.gap_penalties)"
   ]
  },
  {
   "cell_type": "markdown",
   "id": "b183d498",
   "metadata": {},
   "source": [
    "Número de sequências homólogas da sequência nucleotídica em questão encontradas pelo BLAST, ou seja, o número de alinhamentos retornados (número de hits)."
   ]
  },
  {
   "cell_type": "code",
   "execution_count": null,
   "id": "47b222a2",
   "metadata": {},
   "outputs": [],
   "source": [
    "nhits=len(record.alignments)\n",
    "print(\"O número de alinhamentos retornados é\", nhits)"
   ]
  },
  {
   "cell_type": "markdown",
   "id": "52d1528e",
   "metadata": {},
   "source": [
    "Identificar a lista de acession numbers, os e-values, os comprimentos dos alinhamentos e a identificação das sequências homólogas dos alinhamentos obtidas na pesquisa"
   ]
  },
  {
   "cell_type": "code",
   "execution_count": null,
   "id": "5960aa55",
   "metadata": {
    "scrolled": false
   },
   "outputs": [],
   "source": [
    "resultado=[]\n",
    "for alignment in record.alignments:\n",
    "    evalue=alignment.hsps[0].expect\n",
    "    score = alignment.hsps[0].score\n",
    "    identities = alignment.hsps[0].identities\n",
    "    accession=alignment.accession\n",
    "    length=alignment.hsps[0].align_length\n",
    "    sequence=alignment.title\n",
    "    resultado.append(\"\\n\" + \"\\n\" + str(accession) + \" > \" + \" e-value:\"+ str(evalue) + \",\" + \" score: \" + str(score) + \",\" + \" identities: \" + str(identities) + \" e\" + \" comprimento:\" + str(length) + \"\\n\" + \"\\nsequência:\" + str(sequence) )\n",
    "\n",
    "print(\"Os e-values e comprimento dos alinhamentos obtidos para cada sequência são\")\n",
    "print(\" \")\n",
    "for s in resultado:\n",
    "    print(s)"
   ]
  },
  {
   "cell_type": "code",
   "execution_count": null,
   "id": "8febe9ea",
   "metadata": {},
   "outputs": [],
   "source": []
  },
  {
   "cell_type": "code",
   "execution_count": null,
   "id": "72549899",
   "metadata": {},
   "outputs": [],
   "source": []
  }
 ],
 "metadata": {
  "kernelspec": {
   "display_name": "Python 3 (ipykernel)",
   "language": "python",
   "name": "python3"
  },
  "language_info": {
   "codemirror_mode": {
    "name": "ipython",
    "version": 3
   },
   "file_extension": ".py",
   "mimetype": "text/x-python",
   "name": "python",
   "nbconvert_exporter": "python",
   "pygments_lexer": "ipython3",
   "version": "3.11.5"
  }
 },
 "nbformat": 4,
 "nbformat_minor": 5
}
