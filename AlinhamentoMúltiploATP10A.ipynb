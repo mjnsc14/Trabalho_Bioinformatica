{
 "cells": [
  {
   "cell_type": "markdown",
   "id": "f888d738",
   "metadata": {},
   "source": [
    "# Alinhamento múltiplo do gene AT10A"
   ]
  },
  {
   "cell_type": "code",
   "execution_count": 68,
   "id": "5a3e4a34",
   "metadata": {},
   "outputs": [],
   "source": [
    "from Bio import SeqIO\n",
    "from Bio.Blast import NCBIWWW, NCBIXML\n",
    "import requests\n",
    "from io import StringIO                  "
   ]
  },
  {
   "cell_type": "markdown",
   "id": "d107c5e6",
   "metadata": {},
   "source": [
    "Dados da proteina através do Uniprot "
   ]
  },
  {
   "cell_type": "code",
   "execution_count": 69,
   "id": "680c9a11",
   "metadata": {},
   "outputs": [],
   "source": [
    "def fetch_protein_sequence(uniprot_id):\n",
    "    url = f\"https://rest.uniprot.org/uniprotkb/{uniprot_id}.fasta\"\n",
    "    response = requests.get(url)\n",
    "    \n",
    "    if response.ok:\n",
    "        # Extract the protein sequence from the FASTA format\n",
    "        fasta_data = response.text\n",
    "        fasta_io = StringIO(fasta_data)\n",
    "        record = SeqIO.read(fasta_io, \"fasta\")\n",
    "        return record.seq\n",
    "    else:\n",
    "        print(f\"Failed to fetch protein sequence from {url}.\")\n",
    "        return None"
   ]
  },
  {
   "cell_type": "markdown",
   "id": "169c6c07",
   "metadata": {},
   "source": [
    "Obter os resultados do BlastP"
   ]
  },
  {
   "cell_type": "code",
   "execution_count": 70,
   "id": "2360efc5",
   "metadata": {},
   "outputs": [],
   "source": [
    "def run_blast(sequence, blast_program=\"blastp\", database=\"swissprot\", outfile=\"blast_results.xml\"):\n",
    "    # Run BLAST with the given sequence\n",
    "    result_handle = NCBIWWW.qblast(blast_program, database, sequence)\n",
    "    \n",
    "    # Save the results to a file\n",
    "    with open(outfile, \"w\") as out_file:\n",
    "        out_file.write(result_handle.read())\n",
    "    \n",
    "    result_handle.close()"
   ]
  },
  {
   "cell_type": "markdown",
   "id": "36338d0f",
   "metadata": {},
   "source": [
    "Salvar os resultados do Blast num ficheiro xml de nome \"blast_results\""
   ]
  },
  {
   "cell_type": "code",
   "execution_count": 71,
   "id": "db13d069",
   "metadata": {},
   "outputs": [
    {
     "name": "stdout",
     "output_type": "stream",
     "text": [
      "Protein sequence for O60312:\n",
      "MEREPAGTEEPGPPGRRRRREGRTRTVRSNLLPPPGAEDPAAGAAKGERRRRRGCAQHLADNRLKTTKYTLLSFLPKNLFEQFHRPANVYFVFIALLNFVPAVNAFQPGLALAPVLFILAITAFRDLWEDYSRHRSDHKINHLGCLVFSREEKKYVNRFWKEIHVGDFVRLRCNEIFPADILLLSSSDPDGLCHIETANLDGETNLKRRQVVRGFSELVSEFNPLTFTSVIECEKPNNDLSRFRGCIIHDNGKKAGLYKENLLLRGCTLRNTDAVVGIVIYAGHETKALLNNSGPRYKRSKLERQMNCDVLWCVLLLVCMSLFSAVGHGLWIWRYQEKKSLFYVPKSDGSSLSPVTAAVYSFLTMIIVLQVLIPISLYVSIEIVKACQVYFINQDMQLYDEETDSQLQCRALNITEDLGQIQYIFSDKTGTLTENKMVFRRCTVSGVEYSHDANAQRLARYQEADSEEEEVVPRGGSVSQRGSIGSHQSVRVVHRTQSTKSHRRTGSRAEAKRASMLSKHTAFSSPMEKDITPDPKLLEKVSECDKSLAVARHQEHLLAHLSPELSDVFDFFIALTICNTVVVTSPDQPRTKVRVRFELKSPVKTIEDFLRRFTPSCLTSGCSSIGSLAANKSSHKLGSSFPSTPSSDGMLLRLEERLGQPTSAIASNGYSSQADNWASELAQEQESERELRYEAESPDEAALVYAARAYNCVLVERLHDQVSVELPHLGRLTFELLHTLGFDSVRKRMSVVIRHPLTDEINVYTKGADSVVMDLLQPCSSVDARGRHQKKIRSKTQNYLNVYAAEGLRTLCIAKRVLSKEEYACWLQSHLEAESSLENSEELLFQSAIRLETNLHLLGATGIEDRLQDGVPETISKLRQAGLQIWVLTGDKQETAVNIAYACKLLDHDEEVITLNATSQEACAALLDQCLCYVQSRGLQRAPEKTKGKVSMRFSSLCPPSTSTASGRRPSLVIDGRSLAYALEKNLEDKFLFLAKQCRSVLCCRSTPLQKSMVVKLVRSKLKAMTLAIGDGANDVSMIQVADVGVGISGQEGMQAVMASDFAVPKFRYLERLLILHGHWCYSRLANMVLYFFYKNTMFVGLLFWFQFFCGFSASTMIDQWYLIFFNLLFSSLPPLVTGVLDRDVPANVLLTNPQLYKSGQNMEEYRPRTFWFNMADAAFQSLVCFSIPYLAYYDSNVDLFTWGTPIVTIALLTFLLHLGIETKTWTWLNWITCGFSVLLFFTVALIYNASCATCYPPSNPYWTMQALLGDPVFYLTCLMTPVAALLPRLFFRSLQGRVFPTQLQLARQLTRKSPRRCSAPKETFAQGRLPKDSGTEHSSGRTVKTSVPLSQPSWHTQQPVCSLEASGEPSTVDMSMPVREHTLLEGLSAPAPMSSAPGEAVLRSPGGCPEESKVRAASTGRVTPLSSLFSLPTFSLLNWISSWSLVSRLGSVLQFSRTEQLADGQAGRGLPVQPHSGRSGLQGPDHRLLIGASSRRSQ\n",
      "BLAST results saved to blast_results.xml\n"
     ]
    }
   ],
   "source": [
    "if __name__ == \"__main__\":\n",
    "    uniprot_id = \"O60312\"  # UniProt ID of the protein you want to fetch and BLAST\n",
    "\n",
    "    # Fetch protein sequence from UniProt\n",
    "    protein_sequence = fetch_protein_sequence(uniprot_id)\n",
    "\n",
    "    if protein_sequence:\n",
    "        print(f\"Protein sequence for {uniprot_id}:\\n{protein_sequence}\")\n",
    "\n",
    "        # Run BLAST with the obtained protein sequence\n",
    "        run_blast(protein_sequence, blast_program=\"blastp\", database=\"swissprot\", outfile=\"blast_results.xml\")\n",
    "\n",
    "        print(f\"BLAST results saved to blast_results.xml\")"
   ]
  },
  {
   "cell_type": "markdown",
   "id": "8652552f",
   "metadata": {},
   "source": [
    "Abrir o ficheiro xml de nome \"blast_results\" e lê-lo"
   ]
  },
  {
   "cell_type": "code",
   "execution_count": 72,
   "id": "eeb547d5",
   "metadata": {},
   "outputs": [],
   "source": [
    "result_handle=open(\"blast_results.xml\")\n",
    "record=NCBIXML.read(result_handle)"
   ]
  },
  {
   "cell_type": "markdown",
   "id": "24d6b022",
   "metadata": {},
   "source": [
    "Parâmetros globais da pesquisa realizada no Blast"
   ]
  },
  {
   "cell_type": "code",
   "execution_count": 73,
   "id": "1dd82af2",
   "metadata": {},
   "outputs": [
    {
     "name": "stdout",
     "output_type": "stream",
     "text": [
      "A base de dados utilizada foi swissprot\n",
      "A matriz de substituição utilizada no alinhamento foi BLOSUM62\n",
      "Os parâmetros de espaçamento do alinhamento são (11, 1)\n"
     ]
    }
   ],
   "source": [
    "print(\"A base de dados utilizada foi\", record.database)\n",
    "print(\"A matriz de substituição utilizada no alinhamento foi\", record.matrix)\n",
    "print(\"Os parâmetros de espaçamento do alinhamento são\", record.gap_penalties)"
   ]
  },
  {
   "cell_type": "markdown",
   "id": "b183d498",
   "metadata": {},
   "source": [
    "Número de sequências homólogas da sequência nucleotídica em questão encontradas pelo BLAST, ou seja, o número de alinhamentos retornados (número de hits)."
   ]
  },
  {
   "cell_type": "code",
   "execution_count": 74,
   "id": "47b222a2",
   "metadata": {},
   "outputs": [
    {
     "name": "stdout",
     "output_type": "stream",
     "text": [
      "O número de alinhamentos retornados é 50\n"
     ]
    }
   ],
   "source": [
    "nhits=len(record.alignments)\n",
    "print(\"O número de alinhamentos retornados é\", nhits)"
   ]
  },
  {
   "cell_type": "markdown",
   "id": "52d1528e",
   "metadata": {},
   "source": [
    "Identificar a lista de acession numbers, os e-values, os comprimentos dos alinhamentos e a identificação das sequências homólogas dos alinhamentos obtidas na pesquisa"
   ]
  },
  {
   "cell_type": "code",
   "execution_count": 80,
   "id": "5960aa55",
   "metadata": {
    "scrolled": false
   },
   "outputs": [
    {
     "name": "stdout",
     "output_type": "stream",
     "text": [
      "Os e-values e comprimento dos alinhamentos obtidos para cada sequência são\n",
      " \n",
      "\n",
      "\n",
      "O60312 >  e-value:0.0, score: 8049.0, identities: 1499 e comprimento:1499\n",
      "\n",
      "sequência:sp|O60312.2| RecName: Full=Phospholipid-transporting ATPase VA; AltName: Full=ATPase class V type 10A; AltName: Full=Aminophospholipid translocase VA; AltName: Full=P4-ATPase flippase complex alpha subunit ATP10A [Homo sapiens]\n",
      "\n",
      "\n",
      "O54827 >  e-value:0.0, score: 6355.0, identities: 1203 e comprimento:1477\n",
      "\n",
      "sequência:sp|O54827.4| RecName: Full=Phospholipid-transporting ATPase VA; AltName: Full=ATPase class V type 10A; AltName: Full=P-locus fat-associated ATPase; AltName: Full=P4-ATPase flippase complex alpha subunit ATP10A [Mus musculus]\n",
      "\n",
      "\n",
      "Q9P241 >  e-value:0.0, score: 3575.0, identities: 704 e comprimento:1316\n",
      "\n",
      "sequência:sp|Q9P241.3| RecName: Full=Phospholipid-transporting ATPase VD; AltName: Full=ATPase class V type 10D; AltName: Full=P4-ATPase flippase complex alpha subunit ATP10D [Homo sapiens]\n",
      "\n",
      "\n",
      "Q8K2X1 >  e-value:0.0, score: 3557.0, identities: 716 e comprimento:1355\n",
      "\n",
      "sequência:sp|Q8K2X1.2| RecName: Full=Phospholipid-transporting ATPase VD; AltName: Full=ATPase class V type 10D; AltName: Full=P4-ATPase flippase complex alpha subunit ATP10D [Mus musculus]\n",
      "\n",
      "\n",
      "O94823 >  e-value:0.0, score: 3349.0, identities: 676 e comprimento:1285\n",
      "\n",
      "sequência:sp|O94823.2| RecName: Full=Phospholipid-transporting ATPase VB; AltName: Full=ATPase class V type 10B; AltName: Full=P4-ATPase flippase complex alpha subunit ATP10B [Homo sapiens]\n",
      "\n",
      "\n",
      "B1AWN4 >  e-value:0.0, score: 3346.0, identities: 685 e comprimento:1287\n",
      "\n",
      "sequência:sp|B1AWN4.1| RecName: Full=Phospholipid-transporting ATPase VB [Mus musculus]\n",
      "\n",
      "\n",
      "Q9GKS6 >  e-value:0.0, score: 1805.0, identities: 355 e comprimento:639\n",
      "\n",
      "sequência:sp|Q9GKS6.1| RecName: Full=Phospholipid-transporting ATPase VD; AltName: Full=ATPase class V type 10D; AltName: Full=P4-ATPase flippase complex alpha subunit ATP10D [Macaca fascicularis]\n",
      "\n",
      "\n",
      "P98198 >  e-value:3.74989e-132, score: 1140.0, identities: 256 e comprimento:655\n",
      "\n",
      "sequência:sp|P98198.2| RecName: Full=Phospholipid-transporting ATPase ID; AltName: Full=ATPase class I type 8B member 2; AltName: Full=P4-ATPase flippase complex alpha subunit ATP8B2 [Homo sapiens]\n",
      "\n",
      "\n",
      "Q8TF62 >  e-value:2.81798e-131, score: 1132.0, identities: 250 e comprimento:643\n",
      "\n",
      "sequência:sp|Q8TF62.3| RecName: Full=Probable phospholipid-transporting ATPase IM; AltName: Full=ATPase class I type 8B member 4; AltName: Full=P4-ATPase flippase complex alpha subunit ATP8B4 [Homo sapiens]\n",
      "\n",
      "\n",
      "P98199 >  e-value:2.03175e-130, score: 1127.0, identities: 255 e comprimento:652\n",
      "\n",
      "sequência:sp|P98199.2| RecName: Full=Phospholipid-transporting ATPase ID; AltName: Full=ATPase class I type 8B member 2; AltName: Full=P4-ATPase flippase complex alpha subunit ATP8B2 [Mus musculus]\n",
      "\n",
      "\n",
      "P98204 >  e-value:7.28483e-129, score: 1113.0, identities: 241 e comprimento:639\n",
      "\n",
      "sequência:sp|P98204.1| RecName: Full=Phospholipid-transporting ATPase 1; Short=AtALA1; AltName: Full=Aminophospholipid flippase 1 [Arabidopsis thaliana]\n",
      "\n",
      "\n",
      "G0S196 >  e-value:8.18989e-126, score: 1111.0, identities: 250 e comprimento:635\n",
      "\n",
      "sequência:sp|G0S196.1| RecName: Full=Phospholipid-transporting ATPase DNF1; AltName: Full=CtDNF1 [Thermochaetoides thermophila DSM 1495]\n",
      "\n",
      "\n",
      "P32660 >  e-value:1.0392e-124, score: 1104.0, identities: 251 e comprimento:652\n",
      "\n",
      "sequência:sp|P32660.2| RecName: Full=Phospholipid-transporting ATPase DNF1; AltName: Full=Flippase DNF1 [Saccharomyces cerevisiae S288C]\n",
      "\n",
      "\n",
      "O94296 >  e-value:2.31037e-124, score: 1086.0, identities: 253 e comprimento:694\n",
      "\n",
      "sequência:sp|O94296.1| RecName: Full=Phospholipid-transporting ATPase C887.12 [Schizosaccharomyces pombe 972h-]\n",
      "\n",
      "\n",
      "P39524 >  e-value:5.62333e-123, score: 1081.0, identities: 239 e comprimento:644\n",
      "\n",
      "sequência:sp|P39524.2| RecName: Full=Phospholipid-transporting ATPase DRS2 [Saccharomyces cerevisiae S288C]\n",
      "\n",
      "\n",
      "Q9LK90 >  e-value:6.34663e-123, score: 1072.0, identities: 249 e comprimento:665\n",
      "\n",
      "sequência:sp|Q9LK90.1| RecName: Full=Probable phospholipid-transporting ATPase 8; Short=AtALA8; AltName: Full=Aminophospholipid flippase 8 [Arabidopsis thaliana]\n",
      "\n",
      "\n",
      "Q9XIE6 >  e-value:1.6517e-122, score: 1070.0, identities: 243 e comprimento:652\n",
      "\n",
      "sequência:sp|Q9XIE6.2| RecName: Full=Phospholipid-transporting ATPase 3; Short=AtALA3; AltName: Full=Aminophospholipid ATPase 3; AltName: Full=Aminophospholipid flippase 3; AltName: Full=Protein ABERRANT LOCALIZATION OF PEN3 3; AltName: Full=Protein IRREGULAR TRICHOME BRANCH 2 [Arabidopsis thaliana]\n",
      "\n",
      "\n",
      "Q9Y2Q0 >  e-value:1.82319e-122, score: 1067.0, identities: 239 e comprimento:643\n",
      "\n",
      "sequência:sp|Q9Y2Q0.1| RecName: Full=Phospholipid-transporting ATPase IA; AltName: Full=ATPase class I type 8A member 1; AltName: Full=Chromaffin granule ATPase II; AltName: Full=P4-ATPase flippase complex alpha subunit ATP8A1 [Homo sapiens]\n",
      "\n",
      "\n",
      "P70704 >  e-value:1.22312e-121, score: 1061.0, identities: 239 e comprimento:643\n",
      "\n",
      "sequência:sp|P70704.2| RecName: Full=Phospholipid-transporting ATPase IA; AltName: Full=ATPase class I type 8A member 1; AltName: Full=Chromaffin granule ATPase II; AltName: Full=P4-ATPase flippase complex alpha subunit ATP8A1 [Mus musculus]\n",
      "\n",
      "\n",
      "Q12675 >  e-value:2.20277e-121, score: 1080.0, identities: 274 e comprimento:831\n",
      "\n",
      "sequência:sp|Q12675.1| RecName: Full=Phospholipid-transporting ATPase DNF2; AltName: Full=Flippase DNF2 [Saccharomyces cerevisiae S288C]\n",
      "\n",
      "\n",
      "Q29449 >  e-value:3.30036e-121, score: 1057.0, identities: 239 e comprimento:643\n",
      "\n",
      "sequência:sp|Q29449.2| RecName: Full=Probable phospholipid-transporting ATPase IA; AltName: Full=ATPase class I type 8A member 1; AltName: Full=Chromaffin granule ATPase II [Bos taurus]\n",
      "\n",
      "\n",
      "Q9LI83 >  e-value:4.12478e-120, score: 1052.0, identities: 249 e comprimento:651\n",
      "\n",
      "sequência:sp|Q9LI83.1| RecName: Full=Phospholipid-transporting ATPase 10; Short=AtALA10; AltName: Full=Aminophospholipid flippase 10 [Arabidopsis thaliana]\n",
      "\n",
      "\n",
      "Q9SAF5 >  e-value:5.4806e-120, score: 1051.0, identities: 252 e comprimento:652\n",
      "\n",
      "sequência:sp|Q9SAF5.1| RecName: Full=Probable phospholipid-transporting ATPase 11; Short=AtALA11; AltName: Full=Aminophospholipid flippase 11 [Arabidopsis thaliana]\n",
      "\n",
      "\n",
      "Q5BL50 >  e-value:2.54565e-119, score: 1049.0, identities: 241 e comprimento:664\n",
      "\n",
      "sequência:sp|Q5BL50.1| RecName: Full=Phospholipid-transporting ATPase IC; AltName: Full=ATPase class I type 8B member 1; AltName: Full=P4-ATPase flippase complex alpha subunit atp8b1 [Xenopus tropicalis]\n",
      "\n",
      "\n",
      "D4AA47 >  e-value:2.09413e-117, score: 1035.0, identities: 241 e comprimento:661\n",
      "\n",
      "sequência:sp|D4AA47.2| RecName: Full=Phospholipid-transporting ATPase IC; AltName: Full=ATPase class I type 8B member 1; AltName: Full=P4-ATPase flippase complex alpha subunit ATP8B1 [Rattus norvegicus]\n",
      "\n",
      "\n",
      "C7EXK4 >  e-value:3.33726e-117, score: 1028.0, identities: 246 e comprimento:635\n",
      "\n",
      "sequência:sp|C7EXK4.4| RecName: Full=Phospholipid-transporting ATPase IB; AltName: Full=ATPase class I type 8A member 2; AltName: Full=P4-ATPase flippase complex alpha subunit ATP8A2 [Bos taurus]\n",
      "\n",
      "\n",
      "Q9LNQ4 >  e-value:3.87888e-117, score: 1031.0, identities: 240 e comprimento:654\n",
      "\n",
      "sequência:sp|Q9LNQ4.2| RecName: Full=Probable phospholipid-transporting ATPase 4; Short=AtALA4; AltName: Full=Aminophospholipid flippase 4 [Arabidopsis thaliana]\n",
      "\n",
      "\n",
      "P98200 >  e-value:6.33143e-117, score: 1026.0, identities: 245 e comprimento:638\n",
      "\n",
      "sequência:sp|P98200.1| RecName: Full=Phospholipid-transporting ATPase IB; AltName: Full=ATPase class I type 8A member 2; AltName: Full=P4-ATPase flippase complex alpha subunit ATP8A2 [Mus musculus]\n",
      "\n",
      "\n",
      "Q9SGG3 >  e-value:1.95012e-116, score: 1027.0, identities: 237 e comprimento:652\n",
      "\n",
      "sequência:sp|Q9SGG3.1| RecName: Full=Probable phospholipid-transporting ATPase 5; Short=AtALA5; AltName: Full=Aminophospholipid flippase 5 [Arabidopsis thaliana]\n",
      "\n",
      "\n",
      "O36028 >  e-value:3.62558e-116, score: 1032.0, identities: 235 e comprimento:639\n",
      "\n",
      "sequência:sp|O36028.1| RecName: Full=Phospholipid-transporting ATPase C4F10.16c [Schizosaccharomyces pombe 972h-]\n",
      "\n",
      "\n",
      "Q9LVK9 >  e-value:6.71753e-116, score: 1024.0, identities: 258 e comprimento:752\n",
      "\n",
      "sequência:sp|Q9LVK9.3| RecName: Full=Probable phospholipid-transporting ATPase 7; Short=AtALA7; AltName: Full=Aminophospholipid flippase 7 [Arabidopsis thaliana]\n",
      "\n",
      "\n",
      "Q148W0 >  e-value:9.77003e-116, score: 1023.0, identities: 240 e comprimento:664\n",
      "\n",
      "sequência:sp|Q148W0.2| RecName: Full=Phospholipid-transporting ATPase IC; AltName: Full=ATPase class I type 8B member 1; AltName: Full=P4-ATPase flippase complex alpha subunit ATP8B1 [Mus musculus]\n",
      "\n",
      "\n",
      "Q9NTI2 >  e-value:1.09542e-115, score: 1019.0, identities: 245 e comprimento:635\n",
      "\n",
      "sequência:sp|Q9NTI2.3| RecName: Full=Phospholipid-transporting ATPase IB; AltName: Full=ATPase class I type 8A member 2; AltName: Full=ML-1; AltName: Full=P4-ATPase flippase complex alpha subunit ATP8A2 [Homo sapiens]\n",
      "\n",
      "\n",
      "A3FIN4 >  e-value:1.91732e-115, score: 1017.0, identities: 256 e comprimento:697\n",
      "\n",
      "sequência:sp|A3FIN4.1| RecName: Full=Phospholipid-transporting ATPase FetA; AltName: Full=ATPase class I type 8B member 2-like protein; AltName: Full=ATPase class I type 8B member 5; AltName: Full=Flippase expressed in testis A [Mus musculus]\n",
      "\n",
      "\n",
      "Q9SLK6 >  e-value:1.94915e-114, score: 1013.0, identities: 231 e comprimento:643\n",
      "\n",
      "sequência:sp|Q9SLK6.2| RecName: Full=Phospholipid-transporting ATPase 6; Short=AtALA6; AltName: Full=Aminophospholipid flippase 6 [Arabidopsis thaliana]\n",
      "\n",
      "\n",
      "O43520 >  e-value:2.30324e-114, score: 1013.0, identities: 245 e comprimento:729\n",
      "\n",
      "sequência:sp|O43520.3| RecName: Full=Phospholipid-transporting ATPase IC; AltName: Full=ATPase class I type 8B member 1; AltName: Full=Familial intrahepatic cholestasis type 1; AltName: Full=P4-ATPase flippase complex alpha subunit ATP8B1 [Homo sapiens]\n",
      "\n",
      "\n",
      "Q09891 >  e-value:3.4249e-114, score: 1018.0, identities: 241 e comprimento:632\n",
      "\n",
      "sequência:sp|Q09891.1| RecName: Full=Phospholipid-transporting ATPase dnf2 [Schizosaccharomyces pombe 972h-]\n",
      "\n",
      "\n",
      "G2X7W6 >  e-value:2.65534e-113, score: 1011.0, identities: 229 e comprimento:612\n",
      "\n",
      "sequência:sp|G2X7W6.1| RecName: Full=Phospholipid-transporting ATPase DRS2; AltName: Full=VdDRS2 [Verticillium dahliae VdLs.17]\n",
      "\n",
      "\n",
      "Q9SX33 >  e-value:4.48592e-113, score: 1001.0, identities: 243 e comprimento:656\n",
      "\n",
      "sequência:sp|Q9SX33.1| RecName: Full=Putative phospholipid-transporting ATPase 9; Short=AtALA9; AltName: Full=Aminophospholipid flippase 9 [Arabidopsis thaliana]\n",
      "\n",
      "\n",
      "P57792 >  e-value:2.16632e-112, score: 995.0, identities: 239 e comprimento:644\n",
      "\n",
      "sequência:sp|P57792.1| RecName: Full=Probable phospholipid-transporting ATPase 12; Short=AtALA12; AltName: Full=Aminophospholipid flippase 12 [Arabidopsis thaliana]\n",
      "\n",
      "\n",
      "Q9U280 >  e-value:3.34228e-106, score: 946.0, identities: 222 e comprimento:638\n",
      "\n",
      "sequência:sp|Q9U280.3| RecName: Full=Phospholipid-transporting ATPase tat-1; Short=TAT-1 [Caenorhabditis elegans]\n",
      "\n",
      "\n",
      "Q6DFW5 >  e-value:5.49375e-104, score: 932.0, identities: 238 e comprimento:716\n",
      "\n",
      "sequência:sp|Q6DFW5.1| RecName: Full=Phospholipid-transporting ATPase IF; AltName: Full=ATPase class VI type 11B; AltName: Full=P4-ATPase flippase complex alpha subunit ATP11B [Mus musculus]\n",
      "\n",
      "\n",
      "Q9Y2G3 >  e-value:5.35806e-103, score: 924.0, identities: 241 e comprimento:722\n",
      "\n",
      "sequência:sp|Q9Y2G3.2| RecName: Full=Phospholipid-transporting ATPase IF; AltName: Full=ATPase IR; AltName: Full=ATPase class VI type 11B; AltName: Full=P4-ATPase flippase complex alpha subunit ATP11B [Homo sapiens]\n",
      "\n",
      "\n",
      "P98196 >  e-value:1.99982e-100, score: 903.0, identities: 221 e comprimento:628\n",
      "\n",
      "sequência:sp|P98196.3| RecName: Full=Phospholipid-transporting ATPase IH; AltName: Full=ATPase IS; AltName: Full=ATPase class VI type 11A; AltName: Full=P4-ATPase flippase complex alpha subunit ATP11A [Homo sapiens]\n",
      "\n",
      "\n",
      "Q9N0Z4 >  e-value:9.25786e-100, score: 900.0, identities: 234 e comprimento:705\n",
      "\n",
      "sequência:sp|Q9N0Z4.2| RecName: Full=Phospholipid-transporting ATPase IF; AltName: Full=ATPase IR; AltName: Full=ATPase class VI type 11B; AltName: Full=P4-ATPase flippase complex alpha subunit ATP11B; AltName: Full=RING finger-binding protein [Oryctolagus cuniculus]\n",
      "\n",
      "\n",
      "Q6UQ17 >  e-value:1.02245e-99, score: 906.0, identities: 214 e comprimento:600\n",
      "\n",
      "sequência:sp|Q6UQ17.1| RecName: Full=Phospholipid-transporting ATPase IK; AltName: Full=ATPase, class I, type 8B, member 3; AltName: Full=Sperm aminophospholipid transporter; Short=SAPLT [Mus musculus]\n",
      "\n",
      "\n",
      "P98197 >  e-value:5.34543e-99, score: 895.0, identities: 234 e comprimento:686\n",
      "\n",
      "sequência:sp|P98197.1| RecName: Full=Phospholipid-transporting ATPase IH; AltName: Full=ATPase IS; AltName: Full=ATPase class VI type 11A; AltName: Full=P4-ATPase flippase complex alpha subunit ATP11A [Mus musculus]\n",
      "\n",
      "\n",
      "O60423 >  e-value:6.83434e-97, score: 883.0, identities: 243 e comprimento:733\n",
      "\n",
      "sequência:sp|O60423.4| RecName: Full=Phospholipid-transporting ATPase IK; AltName: Full=ATPase class I type 8B member 3 [Homo sapiens]\n",
      "\n",
      "\n",
      "Q8NB49 >  e-value:1.24263e-92, score: 844.0, identities: 227 e comprimento:654\n",
      "\n",
      "sequência:sp|Q8NB49.3| RecName: Full=Phospholipid-transporting ATPase IG; AltName: Full=ATPase IQ; AltName: Full=ATPase class VI type 11C; AltName: Full=P4-ATPase flippase complex alpha subunit ATP11C [Homo sapiens]\n",
      "\n",
      "\n",
      "Q9QZW0 >  e-value:4.93549e-92, score: 839.0, identities: 214 e comprimento:645\n",
      "\n",
      "sequência:sp|Q9QZW0.2| RecName: Full=Phospholipid-transporting ATPase 11C; AltName: Full=ATPase class VI type 11C; AltName: Full=P4-ATPase flippase complex alpha subunit ATP11C [Mus musculus]\n"
     ]
    }
   ],
   "source": [
    "resultado=[]\n",
    "for alignment in record.alignments:\n",
    "    evalue=alignment.hsps[0].expect\n",
    "    score = alignment.hsps[0].score\n",
    "    identities = alignment.hsps[0].identities\n",
    "    accession=alignment.accession\n",
    "    length=alignment.hsps[0].align_length\n",
    "    sequence=alignment.title\n",
    "    resultado.append(\"\\n\" + \"\\n\" + str(accession) + \" > \" + \" e-value:\"+ str(evalue) + \",\" + \" score: \" + str(score) + \",\" + \" identities: \" + str(identities) + \" e\" + \" comprimento:\" + str(length) + \"\\n\" + \"\\nsequência:\" + str(sequence) )\n",
    "\n",
    "print(\"Os e-values e comprimento dos alinhamentos obtidos para cada sequência são\")\n",
    "print(\" \")\n",
    "for s in resultado:\n",
    "    print(s)"
   ]
  },
  {
   "cell_type": "code",
   "execution_count": null,
   "id": "8febe9ea",
   "metadata": {},
   "outputs": [],
   "source": []
  },
  {
   "cell_type": "code",
   "execution_count": null,
   "id": "72549899",
   "metadata": {},
   "outputs": [],
   "source": []
  }
 ],
 "metadata": {
  "kernelspec": {
   "display_name": "Python 3 (ipykernel)",
   "language": "python",
   "name": "python3"
  },
  "language_info": {
   "codemirror_mode": {
    "name": "ipython",
    "version": 3
   },
   "file_extension": ".py",
   "mimetype": "text/x-python",
   "name": "python",
   "nbconvert_exporter": "python",
   "pygments_lexer": "ipython3",
   "version": "3.11.5"
  }
 },
 "nbformat": 4,
 "nbformat_minor": 5
}
