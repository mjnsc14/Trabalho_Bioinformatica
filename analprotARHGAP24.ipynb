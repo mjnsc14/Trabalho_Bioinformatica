{
 "cells": [
  {
   "cell_type": "markdown",
   "id": "4325bd12",
   "metadata": {},
   "source": [
    "# Análise da proteína do gene ARHGAP24\n"
   ]
  },
  {
   "cell_type": "code",
   "execution_count": 1,
   "id": "23289287",
   "metadata": {},
   "outputs": [],
   "source": [
    "from Bio import SeqIO\n",
    "from Bio.Blast import NCBIWWW, NCBIXML\n",
    "import requests\n",
    "from io import StringIO     \n",
    "from Bio import ExPASy\n",
    "import Bio.SwissProt as sp"
   ]
  },
  {
   "cell_type": "markdown",
   "id": "07b8b771",
   "metadata": {},
   "source": [
    "Aceder e salvar ficheiro da proteína no Uniprot"
   ]
  },
  {
   "cell_type": "code",
   "execution_count": 2,
   "id": "ec2fe265",
   "metadata": {},
   "outputs": [],
   "source": [
    "def fetch_protein_sequence(uniprot_id):\n",
    "    url = f\"https://www.uniprot.org/uniprot/{uniprot_id}.txt\"\n",
    "    response = requests.get(url)\n",
    "\n",
    "    # Check if the request was successful (status code 200)\n",
    "    if response.status_code == 200:\n",
    "        # Extract the protein sequence from the response content\n",
    "        protein_sequence = response.text\n",
    "\n",
    "        # Specify the file name based on the UniProt ID\n",
    "        file_name = f\"{uniprot_id}_sequence.txt\"\n",
    "\n",
    "        # Open the file in write mode and save the protein sequence\n",
    "        with open(file_name, \"w\") as file:\n",
    "            file.write(protein_sequence)\n",
    "\n",
    "        print(f\"Protein sequence saved to {file_name}\")\n",
    "    else:\n",
    "        print(f\"Error: Unable to fetch protein sequence for UniProt ID {uniprot_id}\")\n"
   ]
  },
  {
   "cell_type": "code",
   "execution_count": 3,
   "id": "18b23594",
   "metadata": {},
   "outputs": [
    {
     "name": "stdout",
     "output_type": "stream",
     "text": [
      "Protein sequence saved to Q8N264_sequence.txt\n"
     ]
    }
   ],
   "source": [
    "uniprot_id = \"Q8N264\"\n",
    "fetch_protein_sequence(uniprot_id)"
   ]
  },
  {
   "cell_type": "markdown",
   "id": "1e860482",
   "metadata": {},
   "source": [
    "Abrir e ler o ficheiro"
   ]
  },
  {
   "cell_type": "code",
   "execution_count": 4,
   "id": "80b5805f",
   "metadata": {
    "scrolled": true
   },
   "outputs": [
    {
     "name": "stdout",
     "output_type": "stream",
     "text": [
      ">RHG24_HUMAN | Homo sapiens (Human).\n",
      "MEENNDSTENPQQGQGRQNAIKCGWLRKQGGFVKTWHTRWFVLKGDQLYYFKDEDETKPLGTIFLPGNKVSEHPCNEENPGKFLFEVVPGGDRDRMTANHESYLLMASTQNDMEDWVKSIRRVIWGPFGGGIFGQKLEDTVRYEKRYGNRLAPMLVEQCVDFIRQRGLKEEGLFRLPGQANLVKELQDAFDCGEKPSFDSNTDVHTVASLLKLYLRELPEPVIPYAKYEDFLSCAKLLSKEEEAGVKELAKQVKSLPVVNYNLLKYICRFLDEVQSYSGVNKMSVQNLATVFGPNILRPKVEDPLTIMEGTVVVQQLMSVMISKHDCLFPKDAELQSKPQDGVSNNNEIQKKATMGQLQNKENNNTKDSPSRQCSWDKSESPQRSSMNNGSPTALSGSKTNSPKNSVHKLDVSRSPPLMVKKNPAFNKGSGIVTNGSFSSSNAEGLEKTQTTPNGSLQARRSSSLKVSGTKMGTHSVQNGTVRMGILNSDTLGNPTNVRNMSWLPNGYVTLRDNKQKEQAGELGQHNRLSTYDNVHQQFSMMNLDDKQSIDSATWSTSSCEISLPENSNSCRSSTTTCPEQDFFGGNFEDPVLDGPPQDDLSHPRDYESKSDHRSVGGRSSRATSSSDNSETFVGNSSSNHSALHSLVSSLKQEMTKQKIEYESRIKSLEQRNLTLETEMMSLHDELDQERKKFTMIEIKMRNAERAKEDAEKRNDMLQKEMEQFFSTFGELTVEPRRTERGNTIWIQ\n"
     ]
    }
   ],
   "source": [
    "f = open(f\"{uniprot_id}_sequence.txt\")\n",
    "info = sp.read(f)\n",
    "print(f\">{info.entry_name} | {info.organism}\")\n",
    "print(info.sequence)"
   ]
  },
  {
   "cell_type": "markdown",
   "id": "0905d98c",
   "metadata": {},
   "source": [
    "Análise da proteina"
   ]
  },
  {
   "cell_type": "code",
   "execution_count": 5,
   "id": "4b6e3f41",
   "metadata": {},
   "outputs": [
    {
     "name": "stdout",
     "output_type": "stream",
     "text": [
      "\n",
      "TAXONOMY: Eukaryota | Metazoa | Chordata | Craniata | Vertebrata | Euteleostomi | Mammalia | Eutheria | Euarchontoglires | Primates | Haplorrhini | Catarrhini | Hominidae | Homo \n",
      "SEQUENCE LENGHT: 748\n",
      "FUNCTION: Rho GTPase-activating protein involved in cell polarity, cell morphology and cytoskeletal organization. Acts as a GTPase activator for the Rac-type GTPase by converting it to an inactive GDP-bound state. Controls actin remodeling by inactivating Rac downstream of Rho leading to suppress leading edge protrusion and promotes cell retraction to achieve cellular polarity. Able to suppress RAC1 and CDC42 activity in vitro. Overexpression induces cell rounding with partial or complete disruption of actin stress fibers and formation of membrane ruffles, lamellipodia, and filopodia. Isoform 2 is a vascular cell-specific GAP involved in modulation of angiogenesis. \n",
      "SUBUNIT: Interacts with FLNA. \n",
      "SUBCELLULAR LOCATION: Cytoplasm, cytoskeleton. Cell junction, adherens junction. Cell junction, focal adhesion. Cell projection. Note=Localizes to actin stress fibers. In migrating cells, localizes to membrane lamellae and protusions.\n",
      "TISSUE SPECIFICITY: Isoform 1 is widely expressed with a higher level in kidney. Isoform 2 is mainly expressed in endothelial cells. \n",
      "DOMAIN: The coiled coil domain mediates the interaction with FLNA leading to its recruitment to lamellae.\n",
      "PTM: Phosphorylated by ROCK, leading to activate the RacGAP activity. \n",
      "KEYWORDS: Alternative splicing | Angiogenesis | Cell junction | Cell projection | Coiled coil | Cytoplasm | Cytoskeleton | Developmental protein | Differentiation | GTPase activation | Phosphoprotein | Reference proteome | \n"
     ]
    }
   ],
   "source": [
    "taxonomia = ''.join(f\"{m} | \" for m in info.organism_classification)\n",
    "print(f\"\\nTAXONOMY: {taxonomia[:-2]}\")\n",
    "print(f\"SEQUENCE LENGHT: {info.sequence_length}\")\n",
    "\n",
    "#print(info.comments)\n",
    "for member in info.comments:\n",
    "    x = member.find(\"SIMILARITY\")\n",
    "    y = member.find(\"FUNCTION\")\n",
    "    z = member.find(\"SUBCELLULAR LOCATION\")\n",
    "    k = member.find (\"DOMAIN\")\n",
    "    n = member.find (\"PTM\")\n",
    "    o = member.find (\"TISSUE SPECIFICITY\")\n",
    "    i = member.find (\"SUBUNIT\")\n",
    "   #p = member.find (\"DEVELOPMENTAL STAGE\")\n",
    "        \n",
    "    if y != -1: \n",
    "        function = member.split(\"{\")\n",
    "        print(function[0])\n",
    "    if x != -1: \n",
    "        similarity = member.split(\"{\")\n",
    "        print(similarity[0])\n",
    "    if z != -1:\n",
    "        sub_location = member.split(\"{\")\n",
    "        print(sub_location[0])\n",
    "    if k != -1:\n",
    "        domain = member.split(\"{\")\n",
    "        print(domain[0])\n",
    "    if n != -1:\n",
    "        ptm= member.split(\"{\")\n",
    "        print(ptm[0])\n",
    "    if o != -1:\n",
    "        ex= member.split(\"{\")\n",
    "        print(ex[0])\n",
    "    if i != -1:\n",
    "        inter= member.split(\"{\")\n",
    "        print(inter[0])\n",
    "    #if p != -1:\n",
    "        #ds= member.split(\"{\")\n",
    "       # print(ds[0])\n",
    "  \n",
    "\n",
    "keywords = ''.join(f\"{m} | \" for m in info.keywords)\n",
    "print(f\"KEYWORDS: {keywords}\")\n",
    "#print(info.features)"
   ]
  },
  {
   "cell_type": "code",
   "execution_count": null,
   "id": "b3eb5ed7",
   "metadata": {},
   "outputs": [],
   "source": []
  }
 ],
 "metadata": {
  "kernelspec": {
   "display_name": "Python 3 (ipykernel)",
   "language": "python",
   "name": "python3"
  },
  "language_info": {
   "codemirror_mode": {
    "name": "ipython",
    "version": 3
   },
   "file_extension": ".py",
   "mimetype": "text/x-python",
   "name": "python",
   "nbconvert_exporter": "python",
   "pygments_lexer": "ipython3",
   "version": "3.11.5"
  }
 },
 "nbformat": 4,
 "nbformat_minor": 5
}
