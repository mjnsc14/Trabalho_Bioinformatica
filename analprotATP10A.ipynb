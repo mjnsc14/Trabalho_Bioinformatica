{
 "cells": [
  {
   "cell_type": "markdown",
   "id": "5c35ef2a",
   "metadata": {},
   "source": [
    "# Análise da proteína do gene AT10A\n"
   ]
  },
  {
   "cell_type": "code",
   "execution_count": 10,
   "id": "5405865a",
   "metadata": {},
   "outputs": [],
   "source": [
    "from Bio import SeqIO\n",
    "from Bio.Blast import NCBIWWW, NCBIXML\n",
    "import requests\n",
    "from io import StringIO     \n",
    "from Bio import ExPASy\n",
    "import Bio.SwissProt as sp\n",
    "from Bio import SwissProt"
   ]
  },
  {
   "cell_type": "markdown",
   "id": "07d5c47e",
   "metadata": {},
   "source": [
    "Aceder e salvar ficheiro da proteína no Uniprot"
   ]
  },
  {
   "cell_type": "code",
   "execution_count": 11,
   "id": "2787a9bc",
   "metadata": {},
   "outputs": [],
   "source": [
    "def fetch_protein_sequence(uniprot_id):\n",
    "    url = f\"https://www.uniprot.org/uniprot/{uniprot_id}.txt\"\n",
    "    response = requests.get(url)\n",
    "\n",
    "    # Check if the request was successful (status code 200)\n",
    "    if response.status_code == 200:\n",
    "        # Extract the protein sequence from the response content\n",
    "        protein_sequence = response.text\n",
    "\n",
    "        # Specify the file name based on the UniProt ID\n",
    "        file_name = f\"{uniprot_id}_sequence.txt\"\n",
    "\n",
    "        # Open the file in write mode and save the protein sequence\n",
    "        with open(file_name, \"w\") as file:\n",
    "            file.write(protein_sequence)\n",
    "\n",
    "        print(f\"Protein sequence saved to {file_name}\")\n",
    "    else:\n",
    "        print(f\"Error: Unable to fetch protein sequence for UniProt ID {uniprot_id}\")\n"
   ]
  },
  {
   "cell_type": "code",
   "execution_count": 12,
   "id": "5be4b796",
   "metadata": {},
   "outputs": [
    {
     "name": "stdout",
     "output_type": "stream",
     "text": [
      "Protein sequence saved to O60312_sequence.txt\n"
     ]
    }
   ],
   "source": [
    "uniprot_id = \"O60312\"\n",
    "fetch_protein_sequence(uniprot_id)"
   ]
  },
  {
   "cell_type": "markdown",
   "id": "14258898",
   "metadata": {},
   "source": [
    "Abrir e ler o ficheiro"
   ]
  },
  {
   "cell_type": "code",
   "execution_count": 13,
   "id": "2c0b3b2a",
   "metadata": {},
   "outputs": [
    {
     "ename": "IndexError",
     "evalue": "list index out of range",
     "output_type": "error",
     "traceback": [
      "\u001b[1;31m---------------------------------------------------------------------------\u001b[0m",
      "\u001b[1;31mIndexError\u001b[0m                                Traceback (most recent call last)",
      "Cell \u001b[1;32mIn[13], line 2\u001b[0m\n\u001b[0;32m      1\u001b[0m f \u001b[38;5;241m=\u001b[39m \u001b[38;5;28mopen\u001b[39m(\u001b[38;5;124mf\u001b[39m\u001b[38;5;124m\"\u001b[39m\u001b[38;5;132;01m{\u001b[39;00muniprot_id\u001b[38;5;132;01m}\u001b[39;00m\u001b[38;5;124m_sequence.txt\u001b[39m\u001b[38;5;124m\"\u001b[39m)\n\u001b[1;32m----> 2\u001b[0m info \u001b[38;5;241m=\u001b[39m sp\u001b[38;5;241m.\u001b[39mread(f)\n\u001b[0;32m      3\u001b[0m \u001b[38;5;28mprint\u001b[39m(\u001b[38;5;124mf\u001b[39m\u001b[38;5;124m\"\u001b[39m\u001b[38;5;124m>\u001b[39m\u001b[38;5;132;01m{\u001b[39;00minfo\u001b[38;5;241m.\u001b[39mentry_name\u001b[38;5;132;01m}\u001b[39;00m\u001b[38;5;124m | \u001b[39m\u001b[38;5;132;01m{\u001b[39;00minfo\u001b[38;5;241m.\u001b[39morganism\u001b[38;5;132;01m}\u001b[39;00m\u001b[38;5;124m\"\u001b[39m)\n\u001b[0;32m      4\u001b[0m \u001b[38;5;28mprint\u001b[39m(info\u001b[38;5;241m.\u001b[39msequence)\n",
      "File \u001b[1;32m~\\anaconda3\\Lib\\site-packages\\Bio\\SwissProt\\__init__.py:257\u001b[0m, in \u001b[0;36mread\u001b[1;34m(source)\u001b[0m\n\u001b[0;32m    255\u001b[0m handle \u001b[38;5;241m=\u001b[39m _open(source)\n\u001b[0;32m    256\u001b[0m \u001b[38;5;28;01mtry\u001b[39;00m:\n\u001b[1;32m--> 257\u001b[0m     record \u001b[38;5;241m=\u001b[39m _read(handle)\n\u001b[0;32m    258\u001b[0m     \u001b[38;5;28;01mif\u001b[39;00m \u001b[38;5;129;01mnot\u001b[39;00m record:\n\u001b[0;32m    259\u001b[0m         \u001b[38;5;28;01mraise\u001b[39;00m \u001b[38;5;167;01mValueError\u001b[39;00m(\u001b[38;5;124m\"\u001b[39m\u001b[38;5;124mNo SwissProt record found\u001b[39m\u001b[38;5;124m\"\u001b[39m)\n",
      "File \u001b[1;32m~\\anaconda3\\Lib\\site-packages\\Bio\\SwissProt\\__init__.py:371\u001b[0m, in \u001b[0;36m_read\u001b[1;34m(handle)\u001b[0m\n\u001b[0;32m    369\u001b[0m     _read_kw(record, value)\n\u001b[0;32m    370\u001b[0m \u001b[38;5;28;01melif\u001b[39;00m key \u001b[38;5;241m==\u001b[39m \u001b[38;5;124m\"\u001b[39m\u001b[38;5;124mFT\u001b[39m\u001b[38;5;124m\"\u001b[39m:\n\u001b[1;32m--> 371\u001b[0m     _read_ft(record, line)\n\u001b[0;32m    372\u001b[0m \u001b[38;5;28;01melif\u001b[39;00m key \u001b[38;5;241m==\u001b[39m \u001b[38;5;124m\"\u001b[39m\u001b[38;5;124mSQ\u001b[39m\u001b[38;5;124m\"\u001b[39m:\n\u001b[0;32m    373\u001b[0m     cols \u001b[38;5;241m=\u001b[39m value\u001b[38;5;241m.\u001b[39msplit()\n",
      "File \u001b[1;32m~\\anaconda3\\Lib\\site-packages\\Bio\\SwissProt\\__init__.py:830\u001b[0m, in \u001b[0;36m_read_ft\u001b[1;34m(record, line)\u001b[0m\n\u001b[0;32m    828\u001b[0m \u001b[38;5;66;03m# this line is a continuation of the description of the previous feature\u001b[39;00m\n\u001b[0;32m    829\u001b[0m keys \u001b[38;5;241m=\u001b[39m \u001b[38;5;28mlist\u001b[39m(feature\u001b[38;5;241m.\u001b[39mqualifiers\u001b[38;5;241m.\u001b[39mkeys())\n\u001b[1;32m--> 830\u001b[0m key \u001b[38;5;241m=\u001b[39m keys[\u001b[38;5;241m-\u001b[39m\u001b[38;5;241m1\u001b[39m]\n\u001b[0;32m    831\u001b[0m description \u001b[38;5;241m=\u001b[39m value\u001b[38;5;241m.\u001b[39mrstrip(\u001b[38;5;124m'\u001b[39m\u001b[38;5;124m\"\u001b[39m\u001b[38;5;124m'\u001b[39m)\n\u001b[0;32m    832\u001b[0m old_description \u001b[38;5;241m=\u001b[39m feature\u001b[38;5;241m.\u001b[39mqualifiers[key]\n",
      "\u001b[1;31mIndexError\u001b[0m: list index out of range"
     ]
    }
   ],
   "source": [
    "f = open(f\"{uniprot_id}_sequence.txt\")\n",
    "info = sp.read(f)\n",
    "print(f\">{info.entry_name} | {info.organism}\")\n",
    "print(info.sequence)"
   ]
  },
  {
   "cell_type": "markdown",
   "id": "21101d41",
   "metadata": {},
   "source": [
    "Análise da proteina"
   ]
  },
  {
   "cell_type": "code",
   "execution_count": 14,
   "id": "234d7354",
   "metadata": {},
   "outputs": [
    {
     "ename": "NameError",
     "evalue": "name 'info' is not defined",
     "output_type": "error",
     "traceback": [
      "\u001b[1;31m---------------------------------------------------------------------------\u001b[0m",
      "\u001b[1;31mNameError\u001b[0m                                 Traceback (most recent call last)",
      "Cell \u001b[1;32mIn[14], line 1\u001b[0m\n\u001b[1;32m----> 1\u001b[0m taxonomia \u001b[38;5;241m=\u001b[39m \u001b[38;5;124m'\u001b[39m\u001b[38;5;124m'\u001b[39m\u001b[38;5;241m.\u001b[39mjoin(\u001b[38;5;124mf\u001b[39m\u001b[38;5;124m\"\u001b[39m\u001b[38;5;132;01m{\u001b[39;00mm\u001b[38;5;132;01m}\u001b[39;00m\u001b[38;5;124m | \u001b[39m\u001b[38;5;124m\"\u001b[39m \u001b[38;5;28;01mfor\u001b[39;00m m \u001b[38;5;129;01min\u001b[39;00m info\u001b[38;5;241m.\u001b[39morganism_classification)\n\u001b[0;32m      2\u001b[0m \u001b[38;5;28mprint\u001b[39m(\u001b[38;5;124mf\u001b[39m\u001b[38;5;124m\"\u001b[39m\u001b[38;5;130;01m\\n\u001b[39;00m\u001b[38;5;124mTAXONOMY: \u001b[39m\u001b[38;5;132;01m{\u001b[39;00mtaxonomia[:\u001b[38;5;241m-\u001b[39m\u001b[38;5;241m2\u001b[39m]\u001b[38;5;132;01m}\u001b[39;00m\u001b[38;5;124m\"\u001b[39m)\n\u001b[0;32m      3\u001b[0m \u001b[38;5;28mprint\u001b[39m(\u001b[38;5;124mf\u001b[39m\u001b[38;5;124m\"\u001b[39m\u001b[38;5;124mSEQUENCE LENGHT: \u001b[39m\u001b[38;5;132;01m{\u001b[39;00minfo\u001b[38;5;241m.\u001b[39msequence_length\u001b[38;5;132;01m}\u001b[39;00m\u001b[38;5;124m\"\u001b[39m)\n",
      "\u001b[1;31mNameError\u001b[0m: name 'info' is not defined"
     ]
    }
   ],
   "source": [
    "taxonomia = ''.join(f\"{m} | \" for m in info.organism_classification)\n",
    "print(f\"\\nTAXONOMY: {taxonomia[:-2]}\")\n",
    "print(f\"SEQUENCE LENGHT: {info.sequence_length}\")\n",
    "\n",
    "#print(info.comments)\n",
    "for member in info.comments:\n",
    "    x = member.find(\"SIMILARITY\")\n",
    "    y = member.find(\"FUNCTION\")\n",
    "    z = member.find(\"SUBCELLULAR LOCATION\")\n",
    "    k = member.find (\"DOMAIN\")\n",
    "    n = member.find (\"PTM\")\n",
    "    o = member.find (\"TISSUE SPECIFICITY\")\n",
    "    i = member.find (\"SUBUNIT\")\n",
    "   #p = member.find (\"DEVELOPMENTAL STAGE\")\n",
    "        \n",
    "    if y != -1: \n",
    "        function = member.split(\"{\")\n",
    "        print(function[0])\n",
    "    if x != -1: \n",
    "        similarity = member.split(\"{\")\n",
    "        print(similarity[0])\n",
    "    if z != -1:\n",
    "        sub_location = member.split(\"{\")\n",
    "        print(sub_location[0])\n",
    "    if k != -1:\n",
    "        domain = member.split(\"{\")\n",
    "        print(domain[0])\n",
    "    if n != -1:\n",
    "        ptm= member.split(\"{\")\n",
    "        print(ptm[0])\n",
    "    if o != -1:\n",
    "        ex= member.split(\"{\")\n",
    "        print(ex[0])\n",
    "    if i != -1:\n",
    "        inter= member.split(\"{\")\n",
    "        print(inter[0])\n",
    "    #if p != -1:\n",
    "        #ds= member.split(\"{\")\n",
    "       # print(ds[0])\n",
    "  \n",
    "\n",
    "keywords = ''.join(f\"{m} | \" for m in info.keywords)\n",
    "print(f\"KEYWORDS: {keywords}\")\n",
    "#print(info.features)"
   ]
  },
  {
   "cell_type": "code",
   "execution_count": null,
   "id": "30e90d28",
   "metadata": {},
   "outputs": [],
   "source": []
  }
 ],
 "metadata": {
  "kernelspec": {
   "display_name": "Python 3 (ipykernel)",
   "language": "python",
   "name": "python3"
  },
  "language_info": {
   "codemirror_mode": {
    "name": "ipython",
    "version": 3
   },
   "file_extension": ".py",
   "mimetype": "text/x-python",
   "name": "python",
   "nbconvert_exporter": "python",
   "pygments_lexer": "ipython3",
   "version": "3.11.5"
  }
 },
 "nbformat": 4,
 "nbformat_minor": 5
}
